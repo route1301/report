{
  "nbformat": 4,
  "nbformat_minor": 0,
  "metadata": {
    "colab": {
      "name": "Untitled0.ipynb",
      "provenance": [],
      "authorship_tag": "ABX9TyPWCzRT0f6xZnKojjIxxNDX",
      "include_colab_link": true
    },
    "kernelspec": {
      "name": "python3",
      "display_name": "Python 3"
    }
  },
  "cells": [
    {
      "cell_type": "markdown",
      "metadata": {
        "id": "view-in-github",
        "colab_type": "text"
      },
      "source": [
        "<a href=\"https://colab.research.google.com/github/route1301/report/blob/master/Untitled0.ipynb\" target=\"_parent\"><img src=\"https://colab.research.google.com/assets/colab-badge.svg\" alt=\"Open In Colab\"/></a>"
      ]
    },
    {
      "cell_type": "markdown",
      "metadata": {
        "id": "6dG0LkU5fJDo",
        "colab_type": "text"
      },
      "source": [
        "# **## 인공지능 사관학교 프리코스 과제 목차**\n",
        "\n",
        "\n",
        "---\n",
        "1주차 과제(2020.06.15)\n",
        "\n",
        "\n",
        "구글 번역 외 다양한 번역기들\n",
        "\n",
        "각종 ai 스피커\n",
        "\n",
        "각종 딥페이크 기술\n",
        "\n",
        "테슬라 무인운행 기술"
      ]
    }
  ]
}
